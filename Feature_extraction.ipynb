{
 "cells": [
  {
   "cell_type": "code",
   "execution_count": 29,
   "id": "c37ef375-3f86-4d99-aa8a-9d99bb2a1850",
   "metadata": {},
   "outputs": [],
   "source": [
    "import sys\n",
    "sys.path.append(\"../astronomaly/\")\n",
    "sys.path.append(\"../FiLeK/\")\n",
    "import utils,settings,models\n",
    "import astronomaly\n",
    "import glob\n",
    "import matplotlib.pyplot as plt "
   ]
  },
  {
   "cell_type": "code",
   "execution_count": 25,
   "id": "cdfe2fd6-9bfd-419a-a90a-5d2f7c6cacb1",
   "metadata": {},
   "outputs": [],
   "source": [
    "#glob.glob(settings.path_to_save_imgs+'/RGB_images/*')"
   ]
  },
  {
   "cell_type": "code",
   "execution_count": 38,
   "id": "8bdda2f8-90c7-4bdd-9e4a-56ff03517195",
   "metadata": {},
   "outputs": [],
   "source": [
    "from keras.applications.vgg16 import VGG16, preprocess_input\n",
    "from keras.preprocessing import image\n",
    "import numpy as np\n",
    "from tensorflow.keras.models import Model\n",
    "\n",
    "# Load pre-trained VGG16 model\n",
    "base_model = VGG16(weights='imagenet', include_top=False)\n",
    "\n",
    "# Get the desired layer for feature extraction\n",
    "#model = Model(inputs=base_model.input, outputs=base_model.get_layer('block5_conv3').output)\n",
    "\n",
    "\n",
    "# Preprocess input images\n",
    "img_path = glob.glob(settings.path_to_save_imgs+'/RGB_images/*')[0]\n",
    "img = image.load_img(img_path, target_size=(101, 101))\n",
    "x = image.img_to_array(img)\n",
    "x = np.expand_dims(x, axis=0)\n",
    "x = preprocess_input(x)\n",
    "\n",
    "# Extract features\n",
    "features = base_model.predict(x)\n"
   ]
  },
  {
   "cell_type": "code",
   "execution_count": 34,
   "id": "06a7f146-1b19-4ce2-9a55-ea4e900ffe7d",
   "metadata": {},
   "outputs": [],
   "source": [
    "path_weights = settings.path_weights\n",
    "path_weights_retrained = '../FiLeK/Retrain/Rotated/weights.h5'"
   ]
  },
  {
   "cell_type": "code",
   "execution_count": 35,
   "id": "48473e07-3eb9-465b-be4f-8a8743466d5c",
   "metadata": {},
   "outputs": [],
   "source": [
    "name_layer = 'Conv8'\n",
    "mm = models.lens15(path_weights=path_weights_retrained)"
   ]
  },
  {
   "cell_type": "code",
   "execution_count": 41,
   "id": "ee2354e7-5209-40dd-a565-64759c2de91b",
   "metadata": {},
   "outputs": [],
   "source": [
    "feature_extractor = Model(inputs=mm.input, outputs=mm.get_layer('Conv8').output)"
   ]
  },
  {
   "cell_type": "code",
   "execution_count": 42,
   "id": "db65c624-fc0c-4910-b393-c115d7f81d81",
   "metadata": {},
   "outputs": [],
   "source": [
    "# Generate some example input data\n",
    "path_input_data =  glob.glob(settings.path_to_save_imgs+'/RGB_images/*') #np.random.rand(1, 101, 101, 4)\n",
    "\n",
    "# Use the feature_extractor to extract features from the input data\n",
    "features = feature_extractor.predict(input_data)"
   ]
  },
  {
   "cell_type": "code",
   "execution_count": 44,
   "id": "55ceae05-3b5c-4278-9f7e-f6bd2c0925c7",
   "metadata": {},
   "outputs": [
    {
     "data": {
      "text/plain": [
       "(1, 5, 5, 128)"
      ]
     },
     "execution_count": 44,
     "metadata": {},
     "output_type": "execute_result"
    }
   ],
   "source": [
    "np.shape(features)"
   ]
  },
  {
   "cell_type": "code",
   "execution_count": null,
   "id": "d1710ee4-74dd-474d-b382-1f5c011d78bc",
   "metadata": {},
   "outputs": [],
   "source": [
    "data_dir = os.path.join(os.getcwd(), 'example_data')"
   ]
  },
  {
   "cell_type": "code",
   "execution_count": 46,
   "id": "b0fd3beb-950b-4262-8e92-0e06c6f09db7",
   "metadata": {},
   "outputs": [],
   "source": [
    "import os"
   ]
  },
  {
   "cell_type": "code",
   "execution_count": 47,
   "id": "b981f3ac-feaa-4004-baa6-8bf711579529",
   "metadata": {},
   "outputs": [
    {
     "data": {
      "text/plain": [
       "'/home/grespanm/github/KiDS_astronomaly'"
      ]
     },
     "execution_count": 47,
     "metadata": {},
     "output_type": "execute_result"
    }
   ],
   "source": [
    "os.getcwd()"
   ]
  },
  {
   "cell_type": "code",
   "execution_count": null,
   "id": "7533d70b-7945-48f5-89e0-78203589b2ac",
   "metadata": {},
   "outputs": [],
   "source": []
  }
 ],
 "metadata": {
  "kernelspec": {
   "display_name": "Python 3",
   "language": "python",
   "name": "python3"
  },
  "language_info": {
   "codemirror_mode": {
    "name": "ipython",
    "version": 3
   },
   "file_extension": ".py",
   "mimetype": "text/x-python",
   "name": "python",
   "nbconvert_exporter": "python",
   "pygments_lexer": "ipython3",
   "version": "3.8.10"
  }
 },
 "nbformat": 4,
 "nbformat_minor": 5
}
